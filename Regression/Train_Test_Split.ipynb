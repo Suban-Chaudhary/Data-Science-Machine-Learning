{
 "cells": [
  {
   "cell_type": "code",
   "execution_count": 1,
   "metadata": {},
   "outputs": [],
   "source": [
    "import numpy as np"
   ]
  },
  {
   "cell_type": "code",
   "execution_count": 2,
   "metadata": {},
   "outputs": [],
   "source": [
    "from sklearn.model_selection import train_test_split"
   ]
  },
  {
   "cell_type": "code",
   "execution_count": 3,
   "metadata": {},
   "outputs": [],
   "source": [
    "a = np.arange(1,101)"
   ]
  },
  {
   "cell_type": "code",
   "execution_count": 4,
   "metadata": {},
   "outputs": [],
   "source": [
    "b = np.arange(501,601)"
   ]
  },
  {
   "cell_type": "code",
   "execution_count": 5,
   "metadata": {},
   "outputs": [
    {
     "data": {
      "text/plain": [
       "[array([ 1,  2,  3,  4,  5,  6,  7,  8,  9, 10, 11, 12, 13, 14, 15, 16, 17,\n",
       "        18, 19, 20, 21, 22, 23, 24, 25, 26, 27, 28, 29, 30, 31, 32, 33, 34,\n",
       "        35, 36, 37, 38, 39, 40, 41, 42, 43, 44, 45, 46, 47, 48, 49, 50, 51,\n",
       "        52, 53, 54, 55, 56, 57, 58, 59, 60, 61, 62, 63, 64, 65, 66, 67, 68,\n",
       "        69, 70, 71, 72, 73, 74, 75]),\n",
       " array([ 76,  77,  78,  79,  80,  81,  82,  83,  84,  85,  86,  87,  88,\n",
       "         89,  90,  91,  92,  93,  94,  95,  96,  97,  98,  99, 100])]"
      ]
     },
     "execution_count": 5,
     "metadata": {},
     "output_type": "execute_result"
    }
   ],
   "source": [
    "train_test_split(a, shuffle = False)"
   ]
  },
  {
   "cell_type": "code",
   "execution_count": 18,
   "metadata": {},
   "outputs": [],
   "source": [
    "a_train,  a_test, b_train, b_test = train_test_split(a, b, train_size = 0.8, random_state = 200)"
   ]
  },
  {
   "cell_type": "code",
   "execution_count": 19,
   "metadata": {},
   "outputs": [
    {
     "data": {
      "text/plain": [
       "(array([ 40,  86,  18,  48,  29,  67,   6,  78,  37,  39,  79,  76,  75,\n",
       "         95,  30,  54,  31,  41,  26,  83,  66,  82,  98,  19,  50,   5,\n",
       "         13,  72,  92,  88, 100,  59,   9,  34,  91,  70,  96,   4,   1,\n",
       "         53,  63,  22,  51,  21,  62,  68,  60,  46,  33,  32,  36,  71,\n",
       "         99,  55,  23,  84,  25,  24,  85,  16,  74,  28,  52,   8,   2,\n",
       "         57,  97,   7,  12,  93,  58,  15,  90,  80,  77,  56,  43,  69,\n",
       "         17,  27]),\n",
       " array([540, 586, 518, 548, 529, 567, 506, 578, 537, 539, 579, 576, 575,\n",
       "        595, 530, 554, 531, 541, 526, 583, 566, 582, 598, 519, 550, 505,\n",
       "        513, 572, 592, 588, 600, 559, 509, 534, 591, 570, 596, 504, 501,\n",
       "        553, 563, 522, 551, 521, 562, 568, 560, 546, 533, 532, 536, 571,\n",
       "        599, 555, 523, 584, 525, 524, 585, 516, 574, 528, 552, 508, 502,\n",
       "        557, 597, 507, 512, 593, 558, 515, 590, 580, 577, 556, 543, 569,\n",
       "        517, 527]))"
      ]
     },
     "execution_count": 19,
     "metadata": {},
     "output_type": "execute_result"
    }
   ],
   "source": [
    "a_train, b_train"
   ]
  },
  {
   "cell_type": "code",
   "execution_count": 20,
   "metadata": {},
   "outputs": [
    {
     "data": {
      "text/plain": [
       "(array([35,  3, 73, 38, 87, 65, 81, 64, 10, 20, 42, 11, 94, 47, 49, 89, 61,\n",
       "        45, 44, 14]),\n",
       " array([535, 503, 573, 538, 587, 565, 581, 564, 510, 520, 542, 511, 594,\n",
       "        547, 549, 589, 561, 545, 544, 514]))"
      ]
     },
     "execution_count": 20,
     "metadata": {},
     "output_type": "execute_result"
    }
   ],
   "source": [
    "a_test, b_test"
   ]
  },
  {
   "cell_type": "code",
   "execution_count": 21,
   "metadata": {},
   "outputs": [
    {
     "data": {
      "text/plain": [
       "((80,), (20,))"
      ]
     },
     "execution_count": 21,
     "metadata": {},
     "output_type": "execute_result"
    }
   ],
   "source": [
    "a_train.shape, a_test.shape"
   ]
  },
  {
   "cell_type": "code",
   "execution_count": 22,
   "metadata": {},
   "outputs": [
    {
     "data": {
      "text/plain": [
       "((80,), (20,))"
      ]
     },
     "execution_count": 22,
     "metadata": {},
     "output_type": "execute_result"
    }
   ],
   "source": [
    "b_train.shape, b_test.shape"
   ]
  },
  {
   "cell_type": "code",
   "execution_count": null,
   "metadata": {},
   "outputs": [],
   "source": []
  }
 ],
 "metadata": {
  "kernelspec": {
   "display_name": "Python 3",
   "language": "python",
   "name": "python3"
  },
  "language_info": {
   "codemirror_mode": {
    "name": "ipython",
    "version": 3
   },
   "file_extension": ".py",
   "mimetype": "text/x-python",
   "name": "python",
   "nbconvert_exporter": "python",
   "pygments_lexer": "ipython3",
   "version": "3.7.6"
  }
 },
 "nbformat": 4,
 "nbformat_minor": 4
}
