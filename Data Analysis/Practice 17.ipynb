{
 "cells": [
  {
   "cell_type": "code",
   "execution_count": 1,
   "metadata": {},
   "outputs": [],
   "source": [
    "import numpy as np"
   ]
  },
  {
   "cell_type": "code",
   "execution_count": 3,
   "metadata": {},
   "outputs": [
    {
     "data": {
      "text/plain": [
       "array([8, 5, 8, 3, 6, 9, 4, 8, 5, 0, 8, 8, 9, 1, 7, 6, 3, 1, 3, 4, 6, 8,\n",
       "       9, 4, 7, 5, 9, 7, 2, 9, 6, 8, 0, 7, 1, 6, 3, 0, 8, 9, 9, 2, 3, 3,\n",
       "       6, 7, 6, 3, 3, 0, 6, 1, 4, 9, 8, 7, 3, 8, 2, 0, 6, 9, 2, 7, 9, 1,\n",
       "       2, 5, 7, 7, 3, 3, 4, 4, 1, 9, 6, 8, 7, 3, 7, 3, 8, 8, 4, 7, 5, 6,\n",
       "       0, 2, 7, 2, 8, 8, 1, 4, 1, 0, 1, 1])"
      ]
     },
     "execution_count": 3,
     "metadata": {},
     "output_type": "execute_result"
    }
   ],
   "source": [
    "arr = np.random.randint(0,10,100)\n",
    "arr"
   ]
  },
  {
   "cell_type": "code",
   "execution_count": null,
   "metadata": {},
   "outputs": [],
   "source": []
  }
 ],
 "metadata": {
  "kernelspec": {
   "display_name": "Python 3",
   "language": "python",
   "name": "python3"
  },
  "language_info": {
   "codemirror_mode": {
    "name": "ipython",
    "version": 3
   },
   "file_extension": ".py",
   "mimetype": "text/x-python",
   "name": "python",
   "nbconvert_exporter": "python",
   "pygments_lexer": "ipython3",
   "version": "3.7.6"
  }
 },
 "nbformat": 4,
 "nbformat_minor": 4
}
